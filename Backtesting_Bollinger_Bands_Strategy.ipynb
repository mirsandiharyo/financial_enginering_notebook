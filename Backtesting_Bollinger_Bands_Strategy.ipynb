{
 "cells": [
  {
   "cell_type": "markdown",
   "id": "6bb857c0",
   "metadata": {},
   "source": [
    "## About\n",
    "This program backtests the Bollinger bands trading strategy.\n",
    "- Entry: the price is below the lower Bollinger band, i.e. 20-day simple moving average - 2$\\sigma$ (buy on the nex day's open).\n",
    "- Exit: the price is above the upper Bollinger band, i.e. 20-day simple moving average + 2$\\sigma$ (sell on the nex day's open)."
   ]
  },
  {
   "cell_type": "markdown",
   "id": "52396d39",
   "metadata": {},
   "source": [
    "## Import modules"
   ]
  },
  {
   "cell_type": "code",
   "execution_count": 1,
   "id": "bf558295",
   "metadata": {},
   "outputs": [],
   "source": [
    "from datetime import datetime\n",
    "from dateutil.relativedelta import relativedelta\n",
    "import yfinance as yf\n",
    "import numpy as np\n",
    "import matplotlib.pyplot as plt\n",
    "import pandas as pd\n",
    "import pandas_ta as ta\n",
    "import seaborn as sns\n",
    "sns.set_style('darkgrid')"
   ]
  },
  {
   "cell_type": "code",
   "execution_count": 2,
   "id": "38241392",
   "metadata": {},
   "outputs": [
    {
     "name": "stdout",
     "output_type": "stream",
     "text": [
      "Help on function bbands in module pandas_ta.volatility.bbands:\n",
      "\n",
      "bbands(close, length=None, std=None, ddof=0, mamode=None, talib=None, offset=None, **kwargs)\n",
      "    Bollinger Bands (BBANDS)\n",
      "    \n",
      "    A popular volatility indicator by John Bollinger.\n",
      "    \n",
      "    Sources:\n",
      "        https://www.tradingview.com/wiki/Bollinger_Bands_(BB)\n",
      "    \n",
      "    Calculation:\n",
      "        Default Inputs:\n",
      "            length=5, std=2, mamode=\"sma\", ddof=0\n",
      "        EMA = Exponential Moving Average\n",
      "        SMA = Simple Moving Average\n",
      "        STDEV = Standard Deviation\n",
      "        stdev = STDEV(close, length, ddof)\n",
      "        if \"ema\":\n",
      "            MID = EMA(close, length)\n",
      "        else:\n",
      "            MID = SMA(close, length)\n",
      "    \n",
      "        LOWER = MID - std * stdev\n",
      "        UPPER = MID + std * stdev\n",
      "    \n",
      "        BANDWIDTH = 100 * (UPPER - LOWER) / MID\n",
      "        PERCENT = (close - LOWER) / (UPPER - LOWER)\n",
      "    \n",
      "    Args:\n",
      "        close (pd.Series): Series of 'close's\n",
      "        length (int): The short period. Default: 5\n",
      "        std (int): The long period. Default: 2\n",
      "        ddof (int): Degrees of Freedom to use. Default: 0\n",
      "        mamode (str): See ```help(ta.ma)```. Default: 'sma'\n",
      "        talib (bool): If TA Lib is installed and talib is True, Returns the TA Lib\n",
      "            version. Default: True\n",
      "        offset (int): How many periods to offset the result. Default: 0\n",
      "    \n",
      "    Kwargs:\n",
      "        fillna (value, optional): pd.DataFrame.fillna(value)\n",
      "        fill_method (value, optional): Type of fill method\n",
      "    \n",
      "    Returns:\n",
      "        pd.DataFrame: lower, mid, upper, bandwidth, and percent columns.\n",
      "\n"
     ]
    }
   ],
   "source": [
    "help(ta.bbands)"
   ]
  },
  {
   "cell_type": "markdown",
   "id": "6615316a",
   "metadata": {},
   "source": [
    "## Define the functions for the strategy"
   ]
  },
  {
   "cell_type": "code",
   "execution_count": 3,
   "id": "edab2144",
   "metadata": {},
   "outputs": [],
   "source": [
    "def get_signal_bband(close, length=20):\n",
    "    \"\"\"\n",
    "    Pass in a time series of closing price and an optional length for \n",
    "    the simple moving average, returns the buying and selling dates.\n",
    "    Bollinger bands trading strategy:\n",
    "    - Entry: the price is below the lower Bollinger band, i.e. \n",
    "    20-day simple moving average - 2$\\sigma$ (buy on the nex day's open).\n",
    "    - Exit: the price is above the upper Bollinger band, i.e. \n",
    "    20-day simple moving average + 2$\\sigma$ (sell on the nex day's open).    \n",
    "    \"\"\"\n",
    "    buy_date = []\n",
    "    sell_date = []\n",
    "    open_pos = False\n",
    "    \n",
    "    if (len(close) > length):\n",
    "        # Calculate the Bollinger bands\n",
    "        bbands = ta.bbands(close, length=length)\n",
    "        df = pd.DataFrame({'Close':close,'BBL':bbands.iloc[:,0], \n",
    "                           'BBM':bbands.iloc[:,1],'BBU':bbands.iloc[:,2]})\n",
    "        df = df.dropna()\n",
    "\n",
    "        for i in range(len(df['Close'])-1):\n",
    "            if open_pos == False:\n",
    "                # Buy tomorrow if the value is lower than the low band\n",
    "                if df['Close'].iloc[i] < df['BBL'].iloc[i]:\n",
    "                    buy_date.append(df['Close'].index[i+1])\n",
    "                    open_pos = True\n",
    "            elif open_pos == True:\n",
    "                # Sell tomorrow if the value is higher than the upper band\n",
    "                if df['Close'].iloc[i] > df['BBU'].iloc[i]:\n",
    "                    sell_date.append(df['Close'].index[i+1])\n",
    "                    open_pos = False\n",
    "                    \n",
    "        # Remove the last buy date if there is no sell date\n",
    "        if open_pos == True:\n",
    "            buy_date.pop()\n",
    "    return buy_date, sell_date"
   ]
  },
  {
   "cell_type": "markdown",
   "id": "8fefc7e2",
   "metadata": {},
   "source": [
    "## Define the functions for backtesting"
   ]
  },
  {
   "cell_type": "code",
   "execution_count": 4,
   "id": "2d858f2d",
   "metadata": {},
   "outputs": [],
   "source": [
    "def backtest_strategy(tickers, hist, start_date, end_date):\n",
    "    \"\"\"\n",
    "    Pass in a list of ticker symbols, a dataframe containing the time series of\n",
    "    closing price of each symbol, start and end dates, returns a matrix\n",
    "    containing the profit/loss from each transaction and a matrix containing \n",
    "    the holding periods from each transaction.\n",
    "    \"\"\" \n",
    "    matrixprofits = []\n",
    "    matrixholddays = []\n",
    "    for t in tickers:\n",
    "        df = pd.DataFrame(hist[t].dropna())\n",
    "        if (len(df) > 0):\n",
    "            # Remove rows with duplicated indices\n",
    "            df = df[~df.index.duplicated(keep='first')]\n",
    "            \n",
    "            # Obtain the buying and selling dates using Bollinger Band strategy\n",
    "            buy_date, sell_date = get_signal_bband(df['Close'].dropna())\n",
    "            \n",
    "            # Store the average holding period\n",
    "            hold_day = []\n",
    "            for buy, sell in zip(buy_date, sell_date):\n",
    "                hold_day.append(sell - buy)\n",
    "            matrixholddays.append(hold_day)\n",
    "\n",
    "            # Fetch the buying and selling prices\n",
    "            buy_sell = pd.DataFrame({'Buy': df.loc[buy_date,'Open'], \n",
    "                                     'Sell': df.loc[sell_date,'Open']})\n",
    "            buy_sell['Sell'] = buy_sell['Sell'].shift(-1)\n",
    "            buy_sell.dropna(inplace=True)\n",
    "            buy_sell = buy_sell.loc[start_date:end_date]\n",
    "\n",
    "            # Store the profits\n",
    "            profit = (buy_sell['Sell'] - buy_sell['Buy'])/buy_sell['Buy']\n",
    "            matrixprofits.append(profit.values)\n",
    "\n",
    "    return matrixprofits, matrixholddays"
   ]
  },
  {
   "cell_type": "code",
   "execution_count": 5,
   "id": "c16e5189",
   "metadata": {},
   "outputs": [],
   "source": [
    "def calc_backtest_profit(matrixprofits, cut_loss=None, take_profit=None):\n",
    "    allprofit = []\n",
    "    for i in matrixprofits:\n",
    "        for e in i:\n",
    "            allprofit.append(e)\n",
    "    if cut_loss is not None:\n",
    "        allprofit = [max(cut_loss,i) for i in allprofit]\n",
    "    if take_profit is not None:\n",
    "        allprofit = [min(take_profit,i) for i in allprofit]        \n",
    "        \n",
    "    win = [i for i in allprofit if i > 0]\n",
    "    loss = [i for i in allprofit if i < 0]\n",
    "    prob_win = len(win)/(len(allprofit)+1e-6)\n",
    "    kelly = prob_win-((1-prob_win)/\n",
    "                      (np.mean(win)/np.absolute(np.mean(loss))))\n",
    "    print(f'Number of transactions: {len(allprofit)}')    \n",
    "    print(f'Winning probability: {np.round(100*prob_win, 2)}%')\n",
    "    print(f'Mean return: {np.round(100*np.mean(allprofit), 2)}%')\n",
    "    print(f'Mean profit: {np.round(100*np.mean(win), 2)}%')\n",
    "    print(f'Mean loss: {np.round(100*np.mean(loss), 2)}%')    \n",
    "    print(f'Kelly criterion: {np.round(100*kelly, 2)}%')    "
   ]
  },
  {
   "cell_type": "code",
   "execution_count": 6,
   "id": "2da0d4e6",
   "metadata": {},
   "outputs": [],
   "source": [
    "def calc_backtest_effective_annual_return(matrixprofits, matrixholddays, \n",
    "                                          cut_loss=None, take_profit=None):\n",
    "    allprofit = []\n",
    "    for i in matrixprofits:\n",
    "        for e in i:\n",
    "            allprofit.append(e)\n",
    "    if cut_loss is not None:\n",
    "        allprofit = [max(cut_loss,i) for i in allprofit]\n",
    "    if take_profit is not None:\n",
    "        allprofit = [min(take_profit,i) for i in allprofit]        \n",
    "\n",
    "    # Average holding days\n",
    "    allholdday = []\n",
    "    for e in matrixholddays:\n",
    "        for i in e:\n",
    "            allholdday.append(i.days)\n",
    "    print(f'Mean holding period: {np.round(np.mean(allholdday),2)} days')\n",
    "    \n",
    "    # Effective annual return\n",
    "    ann_return = 100* np.round(np.power(1+np.mean(allprofit),\n",
    "                                        365/np.mean(allholdday))-1, 2)\n",
    "    print(f'Annual effective return: {ann_return}%')"
   ]
  },
  {
   "cell_type": "code",
   "execution_count": 7,
   "id": "84dce20a",
   "metadata": {},
   "outputs": [],
   "source": [
    "def calc_backtest_bet_return(matrixprofits, one_bet=100, \n",
    "                             cut_loss=None, take_profit=None):\n",
    "    allprofit = []\n",
    "    for i in matrixprofits:\n",
    "        for e in i:\n",
    "            allprofit.append(e)\n",
    "    if cut_loss is not None:\n",
    "        allprofit = [max(cut_loss,i) for i in allprofit]\n",
    "    if take_profit is not None:\n",
    "        allprofit = [min(take_profit,i) for i in allprofit]\n",
    "    \n",
    "    returns = 0\n",
    "    for profit in allprofit:\n",
    "        returns = returns + (one_bet*profit)\n",
    "    print(f'If you follow the trading strategy and put {one_bet} USD for each transaction,')\n",
    "    print(f'Your profit will be {np.round(returns)} USD after {len(allprofit)} number of transactions')        "
   ]
  },
  {
   "cell_type": "code",
   "execution_count": 8,
   "id": "f878865c",
   "metadata": {},
   "outputs": [],
   "source": [
    "def plot_backtest_profit_hist(matrixprofits, matrixholddays, \n",
    "                              cut_loss=None, take_profit=None):\n",
    "    allprofit = []\n",
    "    for i in matrixprofits:\n",
    "        for e in i:\n",
    "            allprofit.append(e)\n",
    "    if cut_loss is not None:\n",
    "        allprofit = [max(cut_loss,i) for i in allprofit]\n",
    "    if take_profit is not None:\n",
    "        allprofit = [min(take_profit,i) for i in allprofit]  \n",
    "\n",
    "    # Percent profit\n",
    "    allprofit = np.dot(100,allprofit)\n",
    "    hist = np.histogram(allprofit, bins='auto')\n",
    "    median = np.median(allprofit)\n",
    "    mode = hist[1][np.argmax(hist[0])]\n",
    "    plt.figure(figsize=(10,4))\n",
    "    plt.hist(allprofit, bins='auto')\n",
    "    plt.axvline(x=median, lw=4, ls='-.', label='median = '+ str(round(median, 1)), c='orange')\n",
    "    plt.axvline(x=mode, lw=4, label='mode = '+ str(round(mode, 1)), c='red')\n",
    "    plt.xlabel('Percentage return',fontsize=13)\n",
    "    plt.ylabel('Counts',fontsize=13)\n",
    "    plt.title('Distribution of the percentage return of all transactions')\n",
    "    plt.legend();\n",
    "    plt.show();"
   ]
  },
  {
   "cell_type": "code",
   "execution_count": 9,
   "id": "c622a9f4",
   "metadata": {},
   "outputs": [],
   "source": [
    "def calc_effective_annual_return(close, name='the asset'):\n",
    "    profit = (close.iloc[-1] - close.iloc[0])/close.iloc[0]\n",
    "    holdday = (close.index[-1] - close.index[0]).days\n",
    "    ann_return = np.power(1+profit, (365/holdday))-1\n",
    "    print(f'The effective annual return of {name} is {np.round(100*ann_return,2)}%')"
   ]
  },
  {
   "cell_type": "markdown",
   "id": "34016004",
   "metadata": {},
   "source": [
    "## Backtest one asset"
   ]
  },
  {
   "cell_type": "markdown",
   "id": "0af143dd",
   "metadata": {},
   "source": [
    "#### Download the historical data"
   ]
  },
  {
   "cell_type": "code",
   "execution_count": 10,
   "id": "41bce9bc",
   "metadata": {},
   "outputs": [],
   "source": [
    "ticker = 'MU'"
   ]
  },
  {
   "cell_type": "code",
   "execution_count": 11,
   "id": "33136d6d",
   "metadata": {},
   "outputs": [],
   "source": [
    "start_date = datetime.now() - relativedelta(years=3)\n",
    "start_date = start_date.strftime('%Y-%m-%d')\n",
    "end_date = str(datetime.now().strftime('%Y-%m-%d'))"
   ]
  },
  {
   "cell_type": "code",
   "execution_count": 12,
   "id": "d9ac6fb9",
   "metadata": {},
   "outputs": [
    {
     "name": "stdout",
     "output_type": "stream",
     "text": [
      "[*********************100%***********************]  1 of 1 completed\n"
     ]
    },
    {
     "data": {
      "text/html": [
       "<div>\n",
       "<style scoped>\n",
       "    .dataframe tbody tr th:only-of-type {\n",
       "        vertical-align: middle;\n",
       "    }\n",
       "\n",
       "    .dataframe tbody tr th {\n",
       "        vertical-align: top;\n",
       "    }\n",
       "\n",
       "    .dataframe thead th {\n",
       "        text-align: right;\n",
       "    }\n",
       "</style>\n",
       "<table border=\"1\" class=\"dataframe\">\n",
       "  <thead>\n",
       "    <tr style=\"text-align: right;\">\n",
       "      <th></th>\n",
       "      <th>Open</th>\n",
       "      <th>High</th>\n",
       "      <th>Low</th>\n",
       "      <th>Close</th>\n",
       "      <th>Adj Close</th>\n",
       "      <th>Volume</th>\n",
       "    </tr>\n",
       "    <tr>\n",
       "      <th>Date</th>\n",
       "      <th></th>\n",
       "      <th></th>\n",
       "      <th></th>\n",
       "      <th></th>\n",
       "      <th></th>\n",
       "      <th></th>\n",
       "    </tr>\n",
       "  </thead>\n",
       "  <tbody>\n",
       "    <tr>\n",
       "      <th>2018-08-27</th>\n",
       "      <td>51.349998</td>\n",
       "      <td>52.450001</td>\n",
       "      <td>51.169998</td>\n",
       "      <td>52.070000</td>\n",
       "      <td>52.070000</td>\n",
       "      <td>29134100</td>\n",
       "    </tr>\n",
       "    <tr>\n",
       "      <th>2018-08-28</th>\n",
       "      <td>52.419998</td>\n",
       "      <td>52.560001</td>\n",
       "      <td>51.470001</td>\n",
       "      <td>52.340000</td>\n",
       "      <td>52.340000</td>\n",
       "      <td>26198800</td>\n",
       "    </tr>\n",
       "    <tr>\n",
       "      <th>2018-08-29</th>\n",
       "      <td>52.090000</td>\n",
       "      <td>52.160000</td>\n",
       "      <td>51.299999</td>\n",
       "      <td>51.830002</td>\n",
       "      <td>51.830002</td>\n",
       "      <td>31450800</td>\n",
       "    </tr>\n",
       "    <tr>\n",
       "      <th>2018-08-30</th>\n",
       "      <td>51.560001</td>\n",
       "      <td>53.680000</td>\n",
       "      <td>51.400002</td>\n",
       "      <td>52.759998</td>\n",
       "      <td>52.759998</td>\n",
       "      <td>32416600</td>\n",
       "    </tr>\n",
       "    <tr>\n",
       "      <th>2018-08-31</th>\n",
       "      <td>52.700001</td>\n",
       "      <td>53.230000</td>\n",
       "      <td>52.220001</td>\n",
       "      <td>52.520000</td>\n",
       "      <td>52.520000</td>\n",
       "      <td>29937300</td>\n",
       "    </tr>\n",
       "    <tr>\n",
       "      <th>...</th>\n",
       "      <td>...</td>\n",
       "      <td>...</td>\n",
       "      <td>...</td>\n",
       "      <td>...</td>\n",
       "      <td>...</td>\n",
       "      <td>...</td>\n",
       "    </tr>\n",
       "    <tr>\n",
       "      <th>2021-08-19</th>\n",
       "      <td>70.139999</td>\n",
       "      <td>70.820000</td>\n",
       "      <td>69.040001</td>\n",
       "      <td>70.279999</td>\n",
       "      <td>70.279999</td>\n",
       "      <td>18022600</td>\n",
       "    </tr>\n",
       "    <tr>\n",
       "      <th>2021-08-20</th>\n",
       "      <td>70.139999</td>\n",
       "      <td>71.029999</td>\n",
       "      <td>69.580002</td>\n",
       "      <td>70.230003</td>\n",
       "      <td>70.230003</td>\n",
       "      <td>14594200</td>\n",
       "    </tr>\n",
       "    <tr>\n",
       "      <th>2021-08-23</th>\n",
       "      <td>70.839996</td>\n",
       "      <td>71.879997</td>\n",
       "      <td>68.900002</td>\n",
       "      <td>71.739998</td>\n",
       "      <td>71.739998</td>\n",
       "      <td>22265000</td>\n",
       "    </tr>\n",
       "    <tr>\n",
       "      <th>2021-08-24</th>\n",
       "      <td>72.139999</td>\n",
       "      <td>72.690002</td>\n",
       "      <td>71.690002</td>\n",
       "      <td>71.980003</td>\n",
       "      <td>71.980003</td>\n",
       "      <td>18092700</td>\n",
       "    </tr>\n",
       "    <tr>\n",
       "      <th>2021-08-25</th>\n",
       "      <td>72.790001</td>\n",
       "      <td>77.019997</td>\n",
       "      <td>72.179901</td>\n",
       "      <td>74.040001</td>\n",
       "      <td>74.040001</td>\n",
       "      <td>36552132</td>\n",
       "    </tr>\n",
       "  </tbody>\n",
       "</table>\n",
       "<p>755 rows × 6 columns</p>\n",
       "</div>"
      ],
      "text/plain": [
       "                 Open       High        Low      Close  Adj Close    Volume\n",
       "Date                                                                       \n",
       "2018-08-27  51.349998  52.450001  51.169998  52.070000  52.070000  29134100\n",
       "2018-08-28  52.419998  52.560001  51.470001  52.340000  52.340000  26198800\n",
       "2018-08-29  52.090000  52.160000  51.299999  51.830002  51.830002  31450800\n",
       "2018-08-30  51.560001  53.680000  51.400002  52.759998  52.759998  32416600\n",
       "2018-08-31  52.700001  53.230000  52.220001  52.520000  52.520000  29937300\n",
       "...               ...        ...        ...        ...        ...       ...\n",
       "2021-08-19  70.139999  70.820000  69.040001  70.279999  70.279999  18022600\n",
       "2021-08-20  70.139999  71.029999  69.580002  70.230003  70.230003  14594200\n",
       "2021-08-23  70.839996  71.879997  68.900002  71.739998  71.739998  22265000\n",
       "2021-08-24  72.139999  72.690002  71.690002  71.980003  71.980003  18092700\n",
       "2021-08-25  72.790001  77.019997  72.179901  74.040001  74.040001  36552132\n",
       "\n",
       "[755 rows x 6 columns]"
      ]
     },
     "execution_count": 12,
     "metadata": {},
     "output_type": "execute_result"
    }
   ],
   "source": [
    "df = yf.download(ticker, start=start_date, end=end_date)\n",
    "df_ori = df.copy()\n",
    "df"
   ]
  },
  {
   "cell_type": "markdown",
   "id": "1d5e9034",
   "metadata": {},
   "source": [
    "#### Perform the backtesting"
   ]
  },
  {
   "cell_type": "code",
   "execution_count": 13,
   "id": "0fd4fa84",
   "metadata": {},
   "outputs": [],
   "source": [
    "df = df_ori.copy()\n",
    "buy_date, sell_date = get_signal_bband(df['Close'])"
   ]
  },
  {
   "cell_type": "markdown",
   "id": "2f402d7f",
   "metadata": {},
   "source": [
    "#### Plot the results"
   ]
  },
  {
   "cell_type": "code",
   "execution_count": 14,
   "id": "309f95fd",
   "metadata": {},
   "outputs": [
    {
     "data": {
      "text/html": [
       "<div>\n",
       "<style scoped>\n",
       "    .dataframe tbody tr th:only-of-type {\n",
       "        vertical-align: middle;\n",
       "    }\n",
       "\n",
       "    .dataframe tbody tr th {\n",
       "        vertical-align: top;\n",
       "    }\n",
       "\n",
       "    .dataframe thead th {\n",
       "        text-align: right;\n",
       "    }\n",
       "</style>\n",
       "<table border=\"1\" class=\"dataframe\">\n",
       "  <thead>\n",
       "    <tr style=\"text-align: right;\">\n",
       "      <th></th>\n",
       "      <th>Open</th>\n",
       "      <th>High</th>\n",
       "      <th>Low</th>\n",
       "      <th>Close</th>\n",
       "      <th>Adj Close</th>\n",
       "      <th>Volume</th>\n",
       "      <th>BBL_20_2.0</th>\n",
       "      <th>BBM_20_2.0</th>\n",
       "      <th>BBU_20_2.0</th>\n",
       "      <th>BBB_20_2.0</th>\n",
       "      <th>BBP_20_2.0</th>\n",
       "    </tr>\n",
       "    <tr>\n",
       "      <th>Date</th>\n",
       "      <th></th>\n",
       "      <th></th>\n",
       "      <th></th>\n",
       "      <th></th>\n",
       "      <th></th>\n",
       "      <th></th>\n",
       "      <th></th>\n",
       "      <th></th>\n",
       "      <th></th>\n",
       "      <th></th>\n",
       "      <th></th>\n",
       "    </tr>\n",
       "  </thead>\n",
       "  <tbody>\n",
       "    <tr>\n",
       "      <th>2021-08-19</th>\n",
       "      <td>70.139999</td>\n",
       "      <td>70.820000</td>\n",
       "      <td>69.040001</td>\n",
       "      <td>70.279999</td>\n",
       "      <td>70.279999</td>\n",
       "      <td>18022600</td>\n",
       "      <td>67.697487</td>\n",
       "      <td>75.778501</td>\n",
       "      <td>83.859514</td>\n",
       "      <td>21.327985</td>\n",
       "      <td>0.159789</td>\n",
       "    </tr>\n",
       "    <tr>\n",
       "      <th>2021-08-20</th>\n",
       "      <td>70.139999</td>\n",
       "      <td>71.029999</td>\n",
       "      <td>69.580002</td>\n",
       "      <td>70.230003</td>\n",
       "      <td>70.230003</td>\n",
       "      <td>14594200</td>\n",
       "      <td>67.059218</td>\n",
       "      <td>75.493001</td>\n",
       "      <td>83.926783</td>\n",
       "      <td>22.343217</td>\n",
       "      <td>0.187981</td>\n",
       "    </tr>\n",
       "    <tr>\n",
       "      <th>2021-08-23</th>\n",
       "      <td>70.839996</td>\n",
       "      <td>71.879997</td>\n",
       "      <td>68.900002</td>\n",
       "      <td>71.739998</td>\n",
       "      <td>71.739998</td>\n",
       "      <td>22265000</td>\n",
       "      <td>66.685519</td>\n",
       "      <td>75.265001</td>\n",
       "      <td>83.844482</td>\n",
       "      <td>22.798064</td>\n",
       "      <td>0.294568</td>\n",
       "    </tr>\n",
       "    <tr>\n",
       "      <th>2021-08-24</th>\n",
       "      <td>72.139999</td>\n",
       "      <td>72.690002</td>\n",
       "      <td>71.690002</td>\n",
       "      <td>71.980003</td>\n",
       "      <td>71.980003</td>\n",
       "      <td>18092700</td>\n",
       "      <td>66.464090</td>\n",
       "      <td>75.153001</td>\n",
       "      <td>83.841911</td>\n",
       "      <td>23.123256</td>\n",
       "      <td>0.317411</td>\n",
       "    </tr>\n",
       "    <tr>\n",
       "      <th>2021-08-25</th>\n",
       "      <td>72.790001</td>\n",
       "      <td>77.019997</td>\n",
       "      <td>72.179901</td>\n",
       "      <td>74.040001</td>\n",
       "      <td>74.040001</td>\n",
       "      <td>36552132</td>\n",
       "      <td>66.377466</td>\n",
       "      <td>75.077501</td>\n",
       "      <td>83.777535</td>\n",
       "      <td>23.176143</td>\n",
       "      <td>0.440374</td>\n",
       "    </tr>\n",
       "  </tbody>\n",
       "</table>\n",
       "</div>"
      ],
      "text/plain": [
       "                 Open       High        Low      Close  Adj Close    Volume  \\\n",
       "Date                                                                          \n",
       "2021-08-19  70.139999  70.820000  69.040001  70.279999  70.279999  18022600   \n",
       "2021-08-20  70.139999  71.029999  69.580002  70.230003  70.230003  14594200   \n",
       "2021-08-23  70.839996  71.879997  68.900002  71.739998  71.739998  22265000   \n",
       "2021-08-24  72.139999  72.690002  71.690002  71.980003  71.980003  18092700   \n",
       "2021-08-25  72.790001  77.019997  72.179901  74.040001  74.040001  36552132   \n",
       "\n",
       "            BBL_20_2.0  BBM_20_2.0  BBU_20_2.0  BBB_20_2.0  BBP_20_2.0  \n",
       "Date                                                                    \n",
       "2021-08-19   67.697487   75.778501   83.859514   21.327985    0.159789  \n",
       "2021-08-20   67.059218   75.493001   83.926783   22.343217    0.187981  \n",
       "2021-08-23   66.685519   75.265001   83.844482   22.798064    0.294568  \n",
       "2021-08-24   66.464090   75.153001   83.841911   23.123256    0.317411  \n",
       "2021-08-25   66.377466   75.077501   83.777535   23.176143    0.440374  "
      ]
     },
     "execution_count": 14,
     "metadata": {},
     "output_type": "execute_result"
    }
   ],
   "source": [
    "df.ta.bbands(length=20, append=True)\n",
    "df.dropna(inplace=True)\n",
    "df.tail(5)"
   ]
  },
  {
   "cell_type": "code",
   "execution_count": 15,
   "id": "ba787b33",
   "metadata": {},
   "outputs": [
    {
     "data": {
      "image/png": "[encoded data removed]",
      "text/plain": [
       "<Figure size 864x576 with 1 Axes>"
      ]
     },
     "metadata": {},
     "output_type": "display_data"
    }
   ],
   "source": [
    "ax = df[['Close', 'BBM_20_2.0', 'BBL_20_2.0', 'BBU_20_2.0']].plot(figsize=(12,8))\n",
    "ax.fill_between(df.index, df['BBU_20_2.0'], df['BBL_20_2.0'], alpha=0.1);\n",
    "ax.scatter(buy_date, df.loc[buy_date].Close, marker='^', c='g', s=130, label='Buy')\n",
    "ax.scatter(sell_date, df.loc[sell_date].Close, marker='v', c='r', s=130, label='Sell');\n",
    "ax.autoscale(tight=True, axis='x');\n",
    "ax.legend()\n",
    "ax.grid;"
   ]
  },
  {
   "cell_type": "markdown",
   "id": "4682acde",
   "metadata": {},
   "source": [
    "#### Calculate the profit"
   ]
  },
  {
   "cell_type": "code",
   "execution_count": 16,
   "id": "a8ae0edb",
   "metadata": {},
   "outputs": [
    {
     "data": {
      "text/html": [
       "<div>\n",
       "<style scoped>\n",
       "    .dataframe tbody tr th:only-of-type {\n",
       "        vertical-align: middle;\n",
       "    }\n",
       "\n",
       "    .dataframe tbody tr th {\n",
       "        vertical-align: top;\n",
       "    }\n",
       "\n",
       "    .dataframe thead th {\n",
       "        text-align: right;\n",
       "    }\n",
       "</style>\n",
       "<table border=\"1\" class=\"dataframe\">\n",
       "  <thead>\n",
       "    <tr style=\"text-align: right;\">\n",
       "      <th></th>\n",
       "      <th>Buy</th>\n",
       "      <th>Sell</th>\n",
       "    </tr>\n",
       "    <tr>\n",
       "      <th>Date</th>\n",
       "      <th></th>\n",
       "      <th></th>\n",
       "    </tr>\n",
       "  </thead>\n",
       "  <tbody>\n",
       "    <tr>\n",
       "      <th>2020-06-05</th>\n",
       "      <td>NaN</td>\n",
       "      <td>52.660000</td>\n",
       "    </tr>\n",
       "    <tr>\n",
       "      <th>2020-08-07</th>\n",
       "      <td>48.689999</td>\n",
       "      <td>NaN</td>\n",
       "    </tr>\n",
       "    <tr>\n",
       "      <th>2020-09-15</th>\n",
       "      <td>NaN</td>\n",
       "      <td>49.369999</td>\n",
       "    </tr>\n",
       "    <tr>\n",
       "      <th>2021-05-11</th>\n",
       "      <td>77.269997</td>\n",
       "      <td>NaN</td>\n",
       "    </tr>\n",
       "    <tr>\n",
       "      <th>2021-08-04</th>\n",
       "      <td>NaN</td>\n",
       "      <td>80.449997</td>\n",
       "    </tr>\n",
       "  </tbody>\n",
       "</table>\n",
       "</div>"
      ],
      "text/plain": [
       "                  Buy       Sell\n",
       "Date                            \n",
       "2020-06-05        NaN  52.660000\n",
       "2020-08-07  48.689999        NaN\n",
       "2020-09-15        NaN  49.369999\n",
       "2021-05-11  77.269997        NaN\n",
       "2021-08-04        NaN  80.449997"
      ]
     },
     "execution_count": 16,
     "metadata": {},
     "output_type": "execute_result"
    }
   ],
   "source": [
    "buy_sell = pd.DataFrame({'Buy': df.loc[buy_date,'Open'], \n",
    "                         'Sell': df.loc[sell_date,'Open']})\n",
    "buy_sell.tail(5)"
   ]
  },
  {
   "cell_type": "code",
   "execution_count": 17,
   "id": "cd441ca1",
   "metadata": {},
   "outputs": [],
   "source": [
    "buy_sell['Sell'] = buy_sell['Sell'].shift(-1)\n",
    "buy_sell.dropna(inplace=True)"
   ]
  },
  {
   "cell_type": "code",
   "execution_count": 18,
   "id": "c1b2d331",
   "metadata": {},
   "outputs": [
    {
     "name": "stdout",
     "output_type": "stream",
     "text": [
      "Winning percentage: 62.5%\n",
      "Mean profit: 2.45%\n",
      "Number of transactions: 8\n"
     ]
    }
   ],
   "source": [
    "profit = (buy_sell.Sell - buy_sell.Buy)/buy_sell.Buy\n",
    "win = [i for i in profit if i > 0]\n",
    "pct_win = 100*len(win)/(len(profit)+1e-6)\n",
    "print(f'Winning percentage: {np.round(pct_win, 2)}%')\n",
    "print(f'Mean profit: {np.round(np.mean(profit*100), 2)}%')\n",
    "print(f'Number of transactions: {len(profit)}')"
   ]
  },
  {
   "cell_type": "code",
   "execution_count": 19,
   "id": "e33e2313",
   "metadata": {},
   "outputs": [
    {
     "data": {
      "text/plain": [
       "Date\n",
       "2018-10-11    0.880601\n",
       "2019-03-07    1.019705\n",
       "2019-05-08    0.942702\n",
       "2019-09-30    1.036534\n",
       "2019-11-21    1.129433\n",
       "2020-02-03    1.116919\n",
       "2020-08-07    1.132518\n",
       "2021-05-11    1.179126\n",
       "dtype: float64"
      ]
     },
     "execution_count": 19,
     "metadata": {},
     "output_type": "execute_result"
    }
   ],
   "source": [
    "ret = (1 + profit).cumprod()\n",
    "ret"
   ]
  },
  {
   "cell_type": "code",
   "execution_count": 20,
   "id": "1be83987",
   "metadata": {},
   "outputs": [
    {
     "name": "stdout",
     "output_type": "stream",
     "text": [
      "Mean holding period: 58 days 09:00:00\n"
     ]
    }
   ],
   "source": [
    "# Store the average holding period\n",
    "hold_day = []\n",
    "for buy, sell in zip(buy_date, sell_date):\n",
    "    hold_day.append(sell - buy)\n",
    "print(f'Mean holding period: {np.mean(hold_day)}')"
   ]
  },
  {
   "cell_type": "markdown",
   "id": "48e0eff8",
   "metadata": {},
   "source": [
    "## Backtest multiple assets"
   ]
  },
  {
   "cell_type": "markdown",
   "id": "1c1cf3ea",
   "metadata": {},
   "source": [
    "#### Set the ticker symbols"
   ]
  },
  {
   "cell_type": "code",
   "execution_count": 21,
   "id": "2bd96fdb",
   "metadata": {},
   "outputs": [],
   "source": [
    "stocks = pd.read_csv('data/nasdaq_screener_1626347395770.csv', index_col=0)\n",
    "market_cap_lim = 5e10\n",
    "stocks = stocks[stocks['Market Cap'] > market_cap_lim]"
   ]
  },
  {
   "cell_type": "code",
   "execution_count": 22,
   "id": "396b5c05",
   "metadata": {},
   "outputs": [
    {
     "data": {
      "text/plain": [
       "240"
      ]
     },
     "execution_count": 22,
     "metadata": {},
     "output_type": "execute_result"
    }
   ],
   "source": [
    "tickers = list(stocks.index)\n",
    "len(tickers)"
   ]
  },
  {
   "cell_type": "code",
   "execution_count": 23,
   "id": "b8448e12",
   "metadata": {},
   "outputs": [
    {
     "data": {
      "text/plain": [
       "249"
      ]
     },
     "execution_count": 23,
     "metadata": {},
     "output_type": "execute_result"
    }
   ],
   "source": [
    "add_list = ['ARKK', 'ARKG', 'ARKF', 'ARKW', 'ARKQ', '^GSPC', '^IXIC', 'ETH-USD', 'BTC-USD']\n",
    "tickers.extend(add_list)\n",
    "len(tickers)"
   ]
  },
  {
   "cell_type": "code",
   "execution_count": 24,
   "id": "05b1e6a0",
   "metadata": {},
   "outputs": [
    {
     "data": {
      "text/plain": [
       "247"
      ]
     },
     "execution_count": 24,
     "metadata": {},
     "output_type": "execute_result"
    }
   ],
   "source": [
    "# remove weird data\n",
    "unwanted_list = ['GE','TTE']\n",
    "tickers = [t for t in tickers if t not in unwanted_list]\n",
    "len(tickers)"
   ]
  },
  {
   "cell_type": "code",
   "execution_count": 25,
   "id": "4be3e8b0",
   "metadata": {},
   "outputs": [],
   "source": [
    "benchmark = ['^GSPC', '^IXIC']"
   ]
  },
  {
   "cell_type": "markdown",
   "id": "12ed0389",
   "metadata": {},
   "source": [
    "#### Obtain the historical data"
   ]
  },
  {
   "cell_type": "code",
   "execution_count": 26,
   "id": "69fa7300",
   "metadata": {},
   "outputs": [],
   "source": [
    "hist_ori = pd.read_csv('data/historical_data_from_2015.csv', index_col=0, header=[0,1], parse_dates=True)"
   ]
  },
  {
   "cell_type": "markdown",
   "id": "a868f1fa",
   "metadata": {},
   "source": [
    "#### Perform the backtesting"
   ]
  },
  {
   "cell_type": "code",
   "execution_count": 27,
   "id": "a3d6d6d8",
   "metadata": {},
   "outputs": [
    {
     "data": {
      "text/plain": [
       "('2015-08-26', '2016-08-26', '2021-08-26')"
      ]
     },
     "execution_count": 27,
     "metadata": {},
     "output_type": "execute_result"
    }
   ],
   "source": [
    "start_date = datetime.now() - relativedelta(years=5)\n",
    "data_start = start_date - relativedelta(years=1)\n",
    "start_date = start_date.strftime('%Y-%m-%d')\n",
    "data_start = data_start.strftime('%Y-%m-%d')\n",
    "end_date = str(datetime.now().strftime('%Y-%m-%d'))\n",
    "data_start, start_date, end_date"
   ]
  },
  {
   "cell_type": "code",
   "execution_count": 28,
   "id": "7cb32859",
   "metadata": {},
   "outputs": [],
   "source": [
    "hist = hist_ori.loc[data_start:end_date]"
   ]
  },
  {
   "cell_type": "code",
   "execution_count": 29,
   "id": "282b1f07",
   "metadata": {},
   "outputs": [
    {
     "name": "stdout",
     "output_type": "stream",
     "text": [
      "The effective annual return of ^GSPC is 15.46%\n",
      "The effective annual return of ^IXIC is 23.11%\n"
     ]
    },
    {
     "data": {
      "image/png": "[encoded data removed]",
      "text/plain": [
       "<Figure size 720x432 with 1 Axes>"
      ]
     },
     "metadata": {},
     "output_type": "display_data"
    }
   ],
   "source": [
    "df2 = pd.DataFrame()\n",
    "for idx in benchmark:\n",
    "    df2[idx] = hist.loc[start_date:end_date][idx]['Close'].dropna()\n",
    "    calc_effective_annual_return(df2[idx], name=idx)\n",
    "ax = (df2/df2.iloc[0]).plot(figsize=(10,6),title='Asset performance')\n",
    "ax.autoscale(tight=True, axis='x')\n",
    "ax.yaxis.tick_right()"
   ]
  },
  {
   "cell_type": "code",
   "execution_count": 30,
   "id": "bd207534",
   "metadata": {},
   "outputs": [
    {
     "name": "stdout",
     "output_type": "stream",
     "text": [
      "bband-------------------------------------------\n",
      "Number of transactions: 3204\n",
      "Winning probability: 75.84%\n",
      "Mean return: 3.81%\n",
      "Mean profit: 7.73%\n",
      "Mean loss: -8.52%\n",
      "Kelly criterion: 49.22%\n",
      "Mean holding period: 53.87 days\n",
      "Annual effective return: 28.999999999999996%\n",
      "If you follow the trading strategy and put 100 USD for each transaction,\n",
      "Your profit will be 12199.0 USD after 3204 number of transactions\n"
     ]
    },
    {
     "data": {
      "image/png": "[encoded data removed]",
      "text/plain": [
       "<Figure size 720x288 with 1 Axes>"
      ]
     },
     "metadata": {},
     "output_type": "display_data"
    },
    {
     "name": "stdout",
     "output_type": "stream",
     "text": [
      "bband cut_loss----------------------------------\n",
      "Number of transactions: 3204\n",
      "Winning probability: 75.84%\n",
      "Mean return: 4.97%\n",
      "Mean profit: 7.73%\n",
      "Mean loss: -3.68%\n",
      "Kelly criterion: 64.34%\n",
      "Mean holding period: 53.87 days\n",
      "Annual effective return: 39.0%\n",
      "If you follow the trading strategy and put 100 USD for each transaction,\n",
      "Your profit will be 15938.0 USD after 3204 number of transactions\n"
     ]
    },
    {
     "data": {
      "image/png": "[encoded data removed]",
      "text/plain": [
       "<Figure size 720x288 with 1 Axes>"
      ]
     },
     "metadata": {},
     "output_type": "display_data"
    }
   ],
   "source": [
    "st = 'bband'\n",
    "print(f'{st}-------------------------------------------')\n",
    "matrixprofits, matrixholddays = backtest_strategy(tickers, hist, start_date, end_date)\n",
    "calc_backtest_profit(matrixprofits)\n",
    "calc_backtest_effective_annual_return(matrixprofits, matrixholddays)\n",
    "calc_backtest_bet_return(matrixprofits, one_bet=100)\n",
    "plot_backtest_profit_hist(matrixprofits, matrixholddays)\n",
    "print(f'{st} cut_loss----------------------------------')\n",
    "calc_backtest_profit(matrixprofits, cut_loss=-0.05)\n",
    "calc_backtest_effective_annual_return(matrixprofits, matrixholddays, cut_loss=-0.05)\n",
    "calc_backtest_bet_return(matrixprofits, one_bet=100, cut_loss=-0.05)\n",
    "plot_backtest_profit_hist(matrixprofits, matrixholddays, cut_loss=-0.05)"
   ]
  }
 ],
 "metadata": {
  "kernelspec": {
   "display_name": "Python 3",
   "language": "python",
   "name": "python3"
  },
  "language_info": {
   "codemirror_mode": {
    "name": "ipython",
    "version": 3
   },
   "file_extension": ".py",
   "mimetype": "text/x-python",
   "name": "python",
   "nbconvert_exporter": "python",
   "pygments_lexer": "ipython3",
   "version": "3.9.6"
  }
 },
 "nbformat": 4,
 "nbformat_minor": 5
}
