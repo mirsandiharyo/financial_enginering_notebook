{
 "cells": [
  {
   "cell_type": "markdown",
   "metadata": {},
   "source": [
    "## About\n",
    "This program backtests the RSI trading strategy.\n",
    "- Entry: 10-period RSI below 30 and the price is above the 200-day moving average (buy on the nex day's open).\n",
    "- Exit: 10-period RSI above 40 or after 10 trading days (sell on the next day's open)."
   ]
  },
  {
   "cell_type": "markdown",
   "metadata": {
    "id": "_8qEmCsoninS"
   },
   "source": [
    "## Import modules"
   ]
  },
  {
   "cell_type": "code",
   "execution_count": 1,
   "metadata": {
    "id": "eT_AM_MuoBWA"
   },
   "outputs": [],
   "source": [
    "from datetime import datetime\n",
    "from dateutil.relativedelta import relativedelta\n",
    "import yfinance as yf\n",
    "import numpy as np\n",
    "import matplotlib.pyplot as plt\n",
    "import pandas as pd\n",
    "import pandas_ta as ta\n",
    "import seaborn as sns\n",
    "sns.set_style('darkgrid')"
   ]
  },
  {
   "cell_type": "code",
   "execution_count": 2,
   "metadata": {},
   "outputs": [
    {
     "name": "stdout",
     "output_type": "stream",
     "text": [
      "Help on function rsi in module pandas_ta.momentum.rsi:\n",
      "\n",
      "rsi(close, length=None, scalar=None, talib=None, drift=None, offset=None, **kwargs)\n",
      "    Relative Strength Index (RSI)\n",
      "    \n",
      "    The Relative Strength Index is popular momentum oscillator used to measure the\n",
      "    velocity as well as the magnitude of directional price movements.\n",
      "    \n",
      "    Sources:\n",
      "        https://www.tradingview.com/wiki/Relative_Strength_Index_(RSI)\n",
      "    \n",
      "    Calculation:\n",
      "        Default Inputs:\n",
      "            length=14, scalar=100, drift=1\n",
      "        ABS = Absolute Value\n",
      "        RMA = Rolling Moving Average\n",
      "    \n",
      "        diff = close.diff(drift)\n",
      "        positive = diff if diff > 0 else 0\n",
      "        negative = diff if diff < 0 else 0\n",
      "    \n",
      "        pos_avg = RMA(positive, length)\n",
      "        neg_avg = ABS(RMA(negative, length))\n",
      "    \n",
      "        RSI = scalar * pos_avg / (pos_avg + neg_avg)\n",
      "    \n",
      "    Args:\n",
      "        close (pd.Series): Series of 'close's\n",
      "        length (int): It's period. Default: 14\n",
      "        scalar (float): How much to magnify. Default: 100\n",
      "        talib (bool): If TA Lib is installed and talib is True, Returns the TA Lib\n",
      "            version. Default: True\n",
      "        drift (int): The difference period. Default: 1\n",
      "        offset (int): How many periods to offset the result. Default: 0\n",
      "    \n",
      "    Kwargs:\n",
      "        fillna (value, optional): pd.DataFrame.fillna(value)\n",
      "        fill_method (value, optional): Type of fill method\n",
      "    \n",
      "    Returns:\n",
      "        pd.Series: New feature generated.\n",
      "\n"
     ]
    }
   ],
   "source": [
    "help(ta.rsi)"
   ]
  },
  {
   "cell_type": "markdown",
   "metadata": {},
   "source": [
    "## Define the functions for the strategy"
   ]
  },
  {
   "cell_type": "code",
   "execution_count": 3,
   "metadata": {},
   "outputs": [],
   "source": [
    "def get_signal_rsi(close, max_hold_days=10, min_rsi=30,\n",
    "                   max_rsi=40, length_rsi=10, length_sma=200):\n",
    "    \"\"\"\n",
    "    Pass in a time series of closing price, optional maximum holding days, \n",
    "    minimum and the maximum rsi (relative strength index) for entering and exiting, \n",
    "    the window for calculating the rsi, and the length for the simple moving average, \n",
    "    returns the buying and selling dates.\n",
    "    RSI trading strategy:\n",
    "    - Entry: 10-period RSI below 30 and the price is above the 200-day moving average (buy on the nex day's open).\n",
    "    - Exit: 10-period RSI above 40 or after 10 trading days (sell on the next day's open).   \n",
    "    \"\"\"    \n",
    "    buy_date = []\n",
    "    sell_date = []\n",
    "    \n",
    "    # Make sure that it has enough data\n",
    "    if (len(close) > length_sma+max_hold_days+1):  \n",
    "        # Calculate RSI and the standard moving average\n",
    "        df = pd.DataFrame({'Close': close})\n",
    "        df['RSI'] = ta.rsi(df['Close'], length=length_rsi)\n",
    "        df['SMA'] = ta.sma(df['Close'], length=length_sma)\n",
    "        # Replace None with NaN\n",
    "        df = df.fillna(value=np.nan)\n",
    "        \n",
    "        # Get the buying signal\n",
    "        df['Signal'] = np.where((df['Close'] > df['SMA']) \\\n",
    "                              & (df['RSI'] < min_rsi), True, False)\n",
    "        \n",
    "        # Get the buying and selling dates\n",
    "        for i in range(len(df['Signal']) - (max_hold_days+1)):\n",
    "            if df['Signal'].iloc[i] == True: \n",
    "                # Buy tomorrow\n",
    "                buy_date.append(df['Signal'].index[i+1])\n",
    "                # Sell if the maximum holding day has been reached or\n",
    "                # RSI is above max_rsi on the next day\n",
    "                for j in range(1,max_hold_days+1):\n",
    "                    if df['RSI'].iloc[i+j] > max_rsi:\n",
    "                        sell_date.append(df['Signal'].index[i+j+1])\n",
    "                        break                       \n",
    "                    elif j == max_hold_days:\n",
    "                        sell_date.append(df['Signal'].index[i+j+1])\n",
    "                    \n",
    "    # Avoid overlapping position\n",
    "    df2 = pd.DataFrame({'buy date':buy_date, 'sell date':sell_date})\n",
    "    no_ovlp = df2[df2['buy date'] > df2['sell date'].shift(1)]\n",
    "    # Add the first trade\n",
    "    no_ovlp = df2[:1].append(no_ovlp)\n",
    "    return no_ovlp['buy date'], no_ovlp['sell date']"
   ]
  },
  {
   "cell_type": "markdown",
   "metadata": {},
   "source": [
    "## Define the functions for backtesting"
   ]
  },
  {
   "cell_type": "code",
   "execution_count": 4,
   "metadata": {},
   "outputs": [],
   "source": [
    "def backtest_strategy(tickers, hist, start_date, end_date):\n",
    "    \"\"\"\n",
    "    Pass in a list of ticker symbols, a dataframe containing the time series of\n",
    "    closing price of each symbol, start and end dates, returns a matrix\n",
    "    containing the profit/loss from each transaction and a matrix containing \n",
    "    the holding periods from each transaction.\n",
    "    \"\"\" \n",
    "    matrixprofits = []\n",
    "    matrixholddays = []\n",
    "    for t in tickers:\n",
    "        df = pd.DataFrame(hist[t].dropna())\n",
    "        if (len(df) > 0):\n",
    "            # Remove rows with duplicated indices\n",
    "            df = df[~df.index.duplicated(keep='first')]\n",
    "            \n",
    "            # Obtain the buying and selling dates using Bollinger Band strategy\n",
    "            buy_date, sell_date = get_signal_rsi(df['Close'].dropna())\n",
    "            \n",
    "            # Store the average holding period\n",
    "            hold_day = []\n",
    "            for buy, sell in zip(buy_date, sell_date):\n",
    "                hold_day.append(sell - buy)\n",
    "            matrixholddays.append(hold_day)\n",
    "\n",
    "            # Fetch the buying and selling prices\n",
    "            buy_sell = pd.DataFrame({'Buy': df.loc[buy_date,'Open'], \n",
    "                                     'Sell': df.loc[sell_date,'Open']})\n",
    "            buy_sell['Sell'] = buy_sell['Sell'].shift(-1)\n",
    "            buy_sell.dropna(inplace=True)\n",
    "            buy_sell = buy_sell.loc[start_date:end_date]\n",
    "\n",
    "            # Store the profits\n",
    "            profit = (buy_sell['Sell'] - buy_sell['Buy'])/buy_sell['Buy']\n",
    "            matrixprofits.append(profit.values)\n",
    "\n",
    "    return matrixprofits, matrixholddays"
   ]
  },
  {
   "cell_type": "code",
   "execution_count": 5,
   "metadata": {},
   "outputs": [],
   "source": [
    "def calc_backtest_profit(matrixprofits, cut_loss=None, take_profit=None):\n",
    "    allprofit = []\n",
    "    for i in matrixprofits:\n",
    "        for e in i:\n",
    "            allprofit.append(e)\n",
    "    if cut_loss is not None:\n",
    "        allprofit = [max(cut_loss,i) for i in allprofit]\n",
    "    if take_profit is not None:\n",
    "        allprofit = [min(take_profit,i) for i in allprofit]        \n",
    "        \n",
    "    win = [i for i in allprofit if i > 0]\n",
    "    loss = [i for i in allprofit if i < 0]\n",
    "    prob_win = len(win)/(len(allprofit)+1e-6)\n",
    "    kelly = prob_win-((1-prob_win)/\n",
    "                      (np.mean(win)/np.absolute(np.mean(loss))))\n",
    "    print(f'Number of transactions: {len(allprofit)}')    \n",
    "    print(f'Winning probability: {np.round(100*prob_win, 2)}%')\n",
    "    print(f'Mean return: {np.round(100*np.mean(allprofit), 2)}%')\n",
    "    print(f'Mean profit: {np.round(100*np.mean(win), 2)}%')\n",
    "    print(f'Mean loss: {np.round(100*np.mean(loss), 2)}%')    \n",
    "    print(f'Kelly criterion: {np.round(100*kelly, 2)}%')    "
   ]
  },
  {
   "cell_type": "code",
   "execution_count": 6,
   "metadata": {},
   "outputs": [],
   "source": [
    "def calc_backtest_effective_annual_return(matrixprofits, matrixholddays, \n",
    "                                          cut_loss=None, take_profit=None):\n",
    "    allprofit = []\n",
    "    for i in matrixprofits:\n",
    "        for e in i:\n",
    "            allprofit.append(e)\n",
    "    if cut_loss is not None:\n",
    "        allprofit = [max(cut_loss,i) for i in allprofit]\n",
    "    if take_profit is not None:\n",
    "        allprofit = [min(take_profit,i) for i in allprofit]        \n",
    "\n",
    "    # Average holding days\n",
    "    allholdday = []\n",
    "    for e in matrixholddays:\n",
    "        for i in e:\n",
    "            allholdday.append(i.days)\n",
    "    print(f'Mean holding period: {np.round(np.mean(allholdday),2)} days')\n",
    "    \n",
    "    # Effective annual return\n",
    "    ann_return = 100* np.round(np.power(1+np.mean(allprofit),\n",
    "                                        365/np.mean(allholdday))-1, 2)\n",
    "    print(f'Annual effective return: {ann_return}%')"
   ]
  },
  {
   "cell_type": "code",
   "execution_count": 7,
   "metadata": {},
   "outputs": [],
   "source": [
    "def calc_backtest_bet_return(matrixprofits, one_bet=100, \n",
    "                             cut_loss=None, take_profit=None):\n",
    "    allprofit = []\n",
    "    for i in matrixprofits:\n",
    "        for e in i:\n",
    "            allprofit.append(e)\n",
    "    if cut_loss is not None:\n",
    "        allprofit = [max(cut_loss,i) for i in allprofit]\n",
    "    if take_profit is not None:\n",
    "        allprofit = [min(take_profit,i) for i in allprofit]\n",
    "    \n",
    "    returns = 0\n",
    "    for profit in allprofit:\n",
    "        returns = returns + (one_bet*profit)\n",
    "    print(f'If you follow the trading strategy and put {one_bet} USD for each transaction,')\n",
    "    print(f'Your profit will be {np.round(returns)} USD after {len(allprofit)} number of transactions')        "
   ]
  },
  {
   "cell_type": "code",
   "execution_count": 8,
   "metadata": {},
   "outputs": [],
   "source": [
    "def plot_backtest_profit_hist(matrixprofits, matrixholddays, \n",
    "                              cut_loss=None, take_profit=None):\n",
    "    allprofit = []\n",
    "    for i in matrixprofits:\n",
    "        for e in i:\n",
    "            allprofit.append(e)\n",
    "    if cut_loss is not None:\n",
    "        allprofit = [max(cut_loss,i) for i in allprofit]\n",
    "    if take_profit is not None:\n",
    "        allprofit = [min(take_profit,i) for i in allprofit]  \n",
    "\n",
    "    # Percent profit\n",
    "    allprofit = np.dot(100,allprofit)\n",
    "    hist = np.histogram(allprofit, bins='auto')\n",
    "    median = np.median(allprofit)\n",
    "    mode = hist[1][np.argmax(hist[0])]\n",
    "    plt.figure(figsize=(10,4))\n",
    "    plt.hist(allprofit, bins='auto')\n",
    "    plt.axvline(x=median, lw=4, ls='-.', label='median = '+ str(round(median, 1)), c='orange')\n",
    "    plt.axvline(x=mode, lw=4, label='mode = '+ str(round(mode, 1)), c='red')\n",
    "    plt.xlabel('Percentage return',fontsize=13)\n",
    "    plt.ylabel('Counts',fontsize=13)\n",
    "    plt.title('Distribution of the percentage return of all transactions')\n",
    "    plt.legend();\n",
    "    plt.show();"
   ]
  },
  {
   "cell_type": "code",
   "execution_count": 9,
   "metadata": {},
   "outputs": [],
   "source": [
    "def calc_effective_annual_return(close, name='the asset'):\n",
    "    profit = (close.iloc[-1] - close.iloc[0])/close.iloc[0]\n",
    "    holdday = (close.index[-1] - close.index[0]).days\n",
    "    ann_return = np.power(1+profit, (365/holdday))-1\n",
    "    print(f'The effective annual return of {name} is {np.round(100*ann_return,2)}%')"
   ]
  },
  {
   "cell_type": "markdown",
   "metadata": {},
   "source": [
    "## Backtest one asset"
   ]
  },
  {
   "cell_type": "markdown",
   "metadata": {},
   "source": [
    "#### Download the historical data"
   ]
  },
  {
   "cell_type": "code",
   "execution_count": 10,
   "metadata": {},
   "outputs": [],
   "source": [
    "ticker = 'MU'"
   ]
  },
  {
   "cell_type": "code",
   "execution_count": 11,
   "metadata": {},
   "outputs": [],
   "source": [
    "start_date = datetime.now() - relativedelta(years=3)\n",
    "start_date = start_date.strftime('%Y-%m-%d')\n",
    "end_date = str(datetime.now().strftime('%Y-%m-%d'))"
   ]
  },
  {
   "cell_type": "code",
   "execution_count": 12,
   "metadata": {},
   "outputs": [
    {
     "name": "stdout",
     "output_type": "stream",
     "text": [
      "[*********************100%***********************]  1 of 1 completed\n"
     ]
    },
    {
     "data": {
      "text/html": [
       "<div>\n",
       "<style scoped>\n",
       "    .dataframe tbody tr th:only-of-type {\n",
       "        vertical-align: middle;\n",
       "    }\n",
       "\n",
       "    .dataframe tbody tr th {\n",
       "        vertical-align: top;\n",
       "    }\n",
       "\n",
       "    .dataframe thead th {\n",
       "        text-align: right;\n",
       "    }\n",
       "</style>\n",
       "<table border=\"1\" class=\"dataframe\">\n",
       "  <thead>\n",
       "    <tr style=\"text-align: right;\">\n",
       "      <th></th>\n",
       "      <th>Open</th>\n",
       "      <th>High</th>\n",
       "      <th>Low</th>\n",
       "      <th>Close</th>\n",
       "      <th>Adj Close</th>\n",
       "      <th>Volume</th>\n",
       "    </tr>\n",
       "    <tr>\n",
       "      <th>Date</th>\n",
       "      <th></th>\n",
       "      <th></th>\n",
       "      <th></th>\n",
       "      <th></th>\n",
       "      <th></th>\n",
       "      <th></th>\n",
       "    </tr>\n",
       "  </thead>\n",
       "  <tbody>\n",
       "    <tr>\n",
       "      <th>2018-08-27</th>\n",
       "      <td>51.349998</td>\n",
       "      <td>52.450001</td>\n",
       "      <td>51.169998</td>\n",
       "      <td>52.070000</td>\n",
       "      <td>52.070000</td>\n",
       "      <td>29134100</td>\n",
       "    </tr>\n",
       "    <tr>\n",
       "      <th>2018-08-28</th>\n",
       "      <td>52.419998</td>\n",
       "      <td>52.560001</td>\n",
       "      <td>51.470001</td>\n",
       "      <td>52.340000</td>\n",
       "      <td>52.340000</td>\n",
       "      <td>26198800</td>\n",
       "    </tr>\n",
       "    <tr>\n",
       "      <th>2018-08-29</th>\n",
       "      <td>52.090000</td>\n",
       "      <td>52.160000</td>\n",
       "      <td>51.299999</td>\n",
       "      <td>51.830002</td>\n",
       "      <td>51.830002</td>\n",
       "      <td>31450800</td>\n",
       "    </tr>\n",
       "    <tr>\n",
       "      <th>2018-08-30</th>\n",
       "      <td>51.560001</td>\n",
       "      <td>53.680000</td>\n",
       "      <td>51.400002</td>\n",
       "      <td>52.759998</td>\n",
       "      <td>52.759998</td>\n",
       "      <td>32416600</td>\n",
       "    </tr>\n",
       "    <tr>\n",
       "      <th>2018-08-31</th>\n",
       "      <td>52.700001</td>\n",
       "      <td>53.230000</td>\n",
       "      <td>52.220001</td>\n",
       "      <td>52.520000</td>\n",
       "      <td>52.520000</td>\n",
       "      <td>29937300</td>\n",
       "    </tr>\n",
       "    <tr>\n",
       "      <th>...</th>\n",
       "      <td>...</td>\n",
       "      <td>...</td>\n",
       "      <td>...</td>\n",
       "      <td>...</td>\n",
       "      <td>...</td>\n",
       "      <td>...</td>\n",
       "    </tr>\n",
       "    <tr>\n",
       "      <th>2021-08-19</th>\n",
       "      <td>70.139999</td>\n",
       "      <td>70.820000</td>\n",
       "      <td>69.040001</td>\n",
       "      <td>70.279999</td>\n",
       "      <td>70.279999</td>\n",
       "      <td>18022600</td>\n",
       "    </tr>\n",
       "    <tr>\n",
       "      <th>2021-08-20</th>\n",
       "      <td>70.139999</td>\n",
       "      <td>71.029999</td>\n",
       "      <td>69.580002</td>\n",
       "      <td>70.230003</td>\n",
       "      <td>70.230003</td>\n",
       "      <td>14594200</td>\n",
       "    </tr>\n",
       "    <tr>\n",
       "      <th>2021-08-23</th>\n",
       "      <td>70.839996</td>\n",
       "      <td>71.879997</td>\n",
       "      <td>68.900002</td>\n",
       "      <td>71.739998</td>\n",
       "      <td>71.739998</td>\n",
       "      <td>22265000</td>\n",
       "    </tr>\n",
       "    <tr>\n",
       "      <th>2021-08-24</th>\n",
       "      <td>72.139999</td>\n",
       "      <td>72.690002</td>\n",
       "      <td>71.690002</td>\n",
       "      <td>71.980003</td>\n",
       "      <td>71.980003</td>\n",
       "      <td>18092700</td>\n",
       "    </tr>\n",
       "    <tr>\n",
       "      <th>2021-08-25</th>\n",
       "      <td>72.790001</td>\n",
       "      <td>77.019997</td>\n",
       "      <td>72.179901</td>\n",
       "      <td>74.040001</td>\n",
       "      <td>74.040001</td>\n",
       "      <td>36552132</td>\n",
       "    </tr>\n",
       "  </tbody>\n",
       "</table>\n",
       "<p>755 rows × 6 columns</p>\n",
       "</div>"
      ],
      "text/plain": [
       "                 Open       High        Low      Close  Adj Close    Volume\n",
       "Date                                                                       \n",
       "2018-08-27  51.349998  52.450001  51.169998  52.070000  52.070000  29134100\n",
       "2018-08-28  52.419998  52.560001  51.470001  52.340000  52.340000  26198800\n",
       "2018-08-29  52.090000  52.160000  51.299999  51.830002  51.830002  31450800\n",
       "2018-08-30  51.560001  53.680000  51.400002  52.759998  52.759998  32416600\n",
       "2018-08-31  52.700001  53.230000  52.220001  52.520000  52.520000  29937300\n",
       "...               ...        ...        ...        ...        ...       ...\n",
       "2021-08-19  70.139999  70.820000  69.040001  70.279999  70.279999  18022600\n",
       "2021-08-20  70.139999  71.029999  69.580002  70.230003  70.230003  14594200\n",
       "2021-08-23  70.839996  71.879997  68.900002  71.739998  71.739998  22265000\n",
       "2021-08-24  72.139999  72.690002  71.690002  71.980003  71.980003  18092700\n",
       "2021-08-25  72.790001  77.019997  72.179901  74.040001  74.040001  36552132\n",
       "\n",
       "[755 rows x 6 columns]"
      ]
     },
     "execution_count": 12,
     "metadata": {},
     "output_type": "execute_result"
    }
   ],
   "source": [
    "df = yf.download(ticker, start=start_date, end=end_date)\n",
    "df_ori = df.copy()\n",
    "df"
   ]
  },
  {
   "cell_type": "markdown",
   "metadata": {},
   "source": [
    "#### Perform the backtesting"
   ]
  },
  {
   "cell_type": "code",
   "execution_count": 13,
   "metadata": {},
   "outputs": [],
   "source": [
    "df = df_ori.copy()\n",
    "buy_date, sell_date = get_signal_rsi(df['Close'])"
   ]
  },
  {
   "cell_type": "markdown",
   "metadata": {},
   "source": [
    "#### Plot the results"
   ]
  },
  {
   "cell_type": "code",
   "execution_count": 14,
   "metadata": {},
   "outputs": [
    {
     "data": {
      "image/png": "[encoded data removed]",
      "text/plain": [
       "<Figure size 864x576 with 1 Axes>"
      ]
     },
     "metadata": {},
     "output_type": "display_data"
    }
   ],
   "source": [
    "ax = df['Close'].plot(figsize=(12,8))\n",
    "ax.scatter(buy_date, df.loc[buy_date].Close, marker='^', c='g', s=130, label='Buy')\n",
    "ax.scatter(sell_date, df.loc[sell_date].Close, marker='v', c='r', s=130, label='Sell');\n",
    "ax.autoscale(tight=True, axis='x');\n",
    "ax.legend()\n",
    "ax.grid;"
   ]
  },
  {
   "cell_type": "markdown",
   "metadata": {},
   "source": [
    "#### Calculate the profit"
   ]
  },
  {
   "cell_type": "code",
   "execution_count": 15,
   "metadata": {},
   "outputs": [
    {
     "data": {
      "text/html": [
       "<div>\n",
       "<style scoped>\n",
       "    .dataframe tbody tr th:only-of-type {\n",
       "        vertical-align: middle;\n",
       "    }\n",
       "\n",
       "    .dataframe tbody tr th {\n",
       "        vertical-align: top;\n",
       "    }\n",
       "\n",
       "    .dataframe thead th {\n",
       "        text-align: right;\n",
       "    }\n",
       "</style>\n",
       "<table border=\"1\" class=\"dataframe\">\n",
       "  <thead>\n",
       "    <tr style=\"text-align: right;\">\n",
       "      <th></th>\n",
       "      <th>Buy</th>\n",
       "      <th>Sell</th>\n",
       "    </tr>\n",
       "    <tr>\n",
       "      <th>Date</th>\n",
       "      <th></th>\n",
       "      <th></th>\n",
       "    </tr>\n",
       "  </thead>\n",
       "  <tbody>\n",
       "    <tr>\n",
       "      <th>2019-10-07</th>\n",
       "      <td>NaN</td>\n",
       "      <td>44.299999</td>\n",
       "    </tr>\n",
       "    <tr>\n",
       "      <th>2020-02-28</th>\n",
       "      <td>48.650002</td>\n",
       "      <td>NaN</td>\n",
       "    </tr>\n",
       "    <tr>\n",
       "      <th>2020-03-03</th>\n",
       "      <td>NaN</td>\n",
       "      <td>54.599998</td>\n",
       "    </tr>\n",
       "    <tr>\n",
       "      <th>2021-05-13</th>\n",
       "      <td>77.970001</td>\n",
       "      <td>NaN</td>\n",
       "    </tr>\n",
       "    <tr>\n",
       "      <th>2021-05-18</th>\n",
       "      <td>NaN</td>\n",
       "      <td>80.550003</td>\n",
       "    </tr>\n",
       "  </tbody>\n",
       "</table>\n",
       "</div>"
      ],
      "text/plain": [
       "                  Buy       Sell\n",
       "Date                            \n",
       "2019-10-07        NaN  44.299999\n",
       "2020-02-28  48.650002        NaN\n",
       "2020-03-03        NaN  54.599998\n",
       "2021-05-13  77.970001        NaN\n",
       "2021-05-18        NaN  80.550003"
      ]
     },
     "execution_count": 15,
     "metadata": {},
     "output_type": "execute_result"
    }
   ],
   "source": [
    "buy_sell = pd.DataFrame({'Buy': df.loc[buy_date,'Open'], \n",
    "                         'Sell': df.loc[sell_date,'Open']})\n",
    "buy_sell.tail(5)"
   ]
  },
  {
   "cell_type": "code",
   "execution_count": 16,
   "metadata": {},
   "outputs": [],
   "source": [
    "buy_sell['Sell'] = buy_sell['Sell'].shift(-1)\n",
    "buy_sell.dropna(inplace=True)"
   ]
  },
  {
   "cell_type": "code",
   "execution_count": 17,
   "metadata": {},
   "outputs": [
    {
     "name": "stdout",
     "output_type": "stream",
     "text": [
      "Winning percentage: 100.0%\n",
      "Mean profit: 6.19%\n",
      "Number of transactions: 3\n"
     ]
    }
   ],
   "source": [
    "profit = (buy_sell.Sell - buy_sell.Buy)/buy_sell.Buy\n",
    "win = [i for i in profit if i > 0]\n",
    "pct_win = 100*len(win)/(len(profit)+1e-6)\n",
    "print(f'Winning percentage: {np.round(pct_win, 2)}%')\n",
    "print(f'Mean profit: {np.round(np.mean(profit*100), 2)}%')\n",
    "print(f'Number of transactions: {len(profit)}')"
   ]
  },
  {
   "cell_type": "code",
   "execution_count": 18,
   "metadata": {},
   "outputs": [
    {
     "data": {
      "text/plain": [
       "Date\n",
       "2019-09-30    1.030233\n",
       "2020-02-28    1.156232\n",
       "2021-05-13    1.194491\n",
       "dtype: float64"
      ]
     },
     "execution_count": 18,
     "metadata": {},
     "output_type": "execute_result"
    }
   ],
   "source": [
    "ret = (1 + profit).cumprod()\n",
    "ret"
   ]
  },
  {
   "cell_type": "code",
   "execution_count": 19,
   "metadata": {},
   "outputs": [
    {
     "name": "stdout",
     "output_type": "stream",
     "text": [
      "Mean holding period: 5 days 08:00:00\n"
     ]
    }
   ],
   "source": [
    "# Store the average holding period\n",
    "hold_day = []\n",
    "for buy, sell in zip(buy_date, sell_date):\n",
    "    hold_day.append(sell - buy)\n",
    "print(f'Mean holding period: {np.mean(hold_day)}')"
   ]
  },
  {
   "cell_type": "markdown",
   "metadata": {},
   "source": [
    "## Backtest multiple assets"
   ]
  },
  {
   "cell_type": "markdown",
   "metadata": {},
   "source": [
    "#### Set the ticker symbols"
   ]
  },
  {
   "cell_type": "code",
   "execution_count": 20,
   "metadata": {},
   "outputs": [],
   "source": [
    "stocks = pd.read_csv('data/nasdaq_screener_1626347395770.csv', index_col=0)\n",
    "market_cap_lim = 5e10\n",
    "stocks = stocks[stocks['Market Cap'] > market_cap_lim]"
   ]
  },
  {
   "cell_type": "code",
   "execution_count": 21,
   "metadata": {},
   "outputs": [],
   "source": [
    "tickers = list(stocks.index)"
   ]
  },
  {
   "cell_type": "code",
   "execution_count": 22,
   "metadata": {},
   "outputs": [
    {
     "data": {
      "text/plain": [
       "249"
      ]
     },
     "execution_count": 22,
     "metadata": {},
     "output_type": "execute_result"
    }
   ],
   "source": [
    "add_list = ['ARKK', 'ARKG', 'ARKF', 'ARKW', 'ARKQ', '^GSPC', '^IXIC', 'ETH-USD', 'BTC-USD']\n",
    "tickers.extend(add_list)\n",
    "len(tickers)"
   ]
  },
  {
   "cell_type": "code",
   "execution_count": 23,
   "metadata": {},
   "outputs": [
    {
     "data": {
      "text/plain": [
       "247"
      ]
     },
     "execution_count": 23,
     "metadata": {},
     "output_type": "execute_result"
    }
   ],
   "source": [
    "# remove weird data\n",
    "unwanted_list = ['GE','TTE']\n",
    "tickers = [t for t in tickers if t not in unwanted_list]\n",
    "len(tickers)"
   ]
  },
  {
   "cell_type": "code",
   "execution_count": 24,
   "metadata": {},
   "outputs": [],
   "source": [
    "benchmark = ['^GSPC', '^IXIC']"
   ]
  },
  {
   "cell_type": "markdown",
   "metadata": {},
   "source": [
    "#### Obtain the historical data"
   ]
  },
  {
   "cell_type": "code",
   "execution_count": 25,
   "metadata": {},
   "outputs": [],
   "source": [
    "hist_ori = pd.read_csv('data/historical_data_from_2015.csv', index_col=0, header=[0,1], parse_dates=True)"
   ]
  },
  {
   "cell_type": "markdown",
   "metadata": {},
   "source": [
    "#### Perform the backtesting"
   ]
  },
  {
   "cell_type": "code",
   "execution_count": 26,
   "metadata": {},
   "outputs": [
    {
     "data": {
      "text/plain": [
       "('2015-08-26', '2016-08-26', '2021-08-26')"
      ]
     },
     "execution_count": 26,
     "metadata": {},
     "output_type": "execute_result"
    }
   ],
   "source": [
    "start_date = datetime.now() - relativedelta(years=5)\n",
    "data_start = start_date - relativedelta(years=1)\n",
    "start_date = start_date.strftime('%Y-%m-%d')\n",
    "data_start = data_start.strftime('%Y-%m-%d')\n",
    "end_date = str(datetime.now().strftime('%Y-%m-%d'))\n",
    "data_start, start_date, end_date"
   ]
  },
  {
   "cell_type": "code",
   "execution_count": 27,
   "metadata": {},
   "outputs": [],
   "source": [
    "hist = hist_ori.loc[data_start:end_date]"
   ]
  },
  {
   "cell_type": "code",
   "execution_count": 28,
   "metadata": {},
   "outputs": [
    {
     "name": "stdout",
     "output_type": "stream",
     "text": [
      "The effective annual return of ^GSPC is 15.46%\n",
      "The effective annual return of ^IXIC is 23.11%\n"
     ]
    },
    {
     "data": {
      "image/png": "[encoded data removed]",
      "text/plain": [
       "<Figure size 720x432 with 1 Axes>"
      ]
     },
     "metadata": {},
     "output_type": "display_data"
    }
   ],
   "source": [
    "df2 = pd.DataFrame()\n",
    "for idx in benchmark:\n",
    "    df2[idx] = hist.loc[start_date:end_date][idx]['Close'].dropna()\n",
    "    calc_effective_annual_return(df2[idx], name=idx)\n",
    "ax = (df2/df2.iloc[0]).plot(figsize=(10,6),title='Asset performance')\n",
    "ax.autoscale(tight=True, axis='x')\n",
    "ax.yaxis.tick_right()"
   ]
  },
  {
   "cell_type": "code",
   "execution_count": 29,
   "metadata": {},
   "outputs": [
    {
     "name": "stdout",
     "output_type": "stream",
     "text": [
      "rsi-------------------------------------------\n",
      "Number of transactions: 1582\n",
      "Winning probability: 74.27%\n",
      "Mean return: 1.24%\n",
      "Mean profit: 3.02%\n",
      "Mean loss: -3.95%\n",
      "Kelly criterion: 40.69%\n",
      "Mean holding period: 6.94 days\n",
      "Annual effective return: 91.0%\n",
      "If you follow the trading strategy and put 100 USD for each transaction,\n",
      "Your profit will be 1955.0 USD after 1582 number of transactions\n"
     ]
    },
    {
     "data": {
      "image/png": "[encoded data removed]",
      "text/plain": [
       "<Figure size 720x288 with 1 Axes>"
      ]
     },
     "metadata": {},
     "output_type": "display_data"
    },
    {
     "name": "stdout",
     "output_type": "stream",
     "text": [
      "rsi cut_loss----------------------------------\n",
      "Number of transactions: 1582\n",
      "Winning probability: 74.27%\n",
      "Mean return: 1.59%\n",
      "Mean profit: 3.02%\n",
      "Mean loss: -2.55%\n",
      "Kelly criterion: 52.56%\n",
      "Mean holding period: 6.94 days\n",
      "Annual effective return: 130.0%\n",
      "If you follow the trading strategy and put 100 USD for each transaction,\n",
      "Your profit will be 2520.0 USD after 1582 number of transactions\n"
     ]
    },
    {
     "data": {
      "image/png": "[encoded data removed]",
      "text/plain": [
       "<Figure size 720x288 with 1 Axes>"
      ]
     },
     "metadata": {},
     "output_type": "display_data"
    }
   ],
   "source": [
    "st = 'rsi'\n",
    "print(f'{st}-------------------------------------------')\n",
    "matrixprofits, matrixholddays = backtest_strategy(tickers, hist, start_date, end_date)\n",
    "calc_backtest_profit(matrixprofits)\n",
    "calc_backtest_effective_annual_return(matrixprofits, matrixholddays)\n",
    "calc_backtest_bet_return(matrixprofits, one_bet=100)\n",
    "plot_backtest_profit_hist(matrixprofits, matrixholddays)\n",
    "print(f'{st} cut_loss----------------------------------')\n",
    "calc_backtest_profit(matrixprofits, cut_loss=-0.05)\n",
    "calc_backtest_effective_annual_return(matrixprofits, matrixholddays, cut_loss=-0.05)\n",
    "calc_backtest_bet_return(matrixprofits, one_bet=100, cut_loss=-0.05)\n",
    "plot_backtest_profit_hist(matrixprofits, matrixholddays, cut_loss=-0.05)"
   ]
  }
 ],
 "metadata": {
  "colab": {
   "collapsed_sections": [],
   "name": "Pandas TA - Backtesting RSI Trading Strategy",
   "provenance": []
  },
  "kernelspec": {
   "display_name": "Python 3",
   "language": "python",
   "name": "python3"
  },
  "language_info": {
   "codemirror_mode": {
    "name": "ipython",
    "version": 3
   },
   "file_extension": ".py",
   "mimetype": "text/x-python",
   "name": "python",
   "nbconvert_exporter": "python",
   "pygments_lexer": "ipython3",
   "version": "3.9.6"
  }
 },
 "nbformat": 4,
 "nbformat_minor": 1
}
